{
  "nbformat": 4,
  "nbformat_minor": 0,
  "metadata": {
    "colab": {
      "provenance": [],
      "authorship_tag": "ABX9TyO8IJ5Ub4mHKiHMvU0UlcIs",
      "include_colab_link": true
    },
    "kernelspec": {
      "name": "python3",
      "display_name": "Python 3"
    },
    "language_info": {
      "name": "python"
    }
  },
  "cells": [
    {
      "cell_type": "markdown",
      "metadata": {
        "id": "view-in-github",
        "colab_type": "text"
      },
      "source": [
        "<a href=\"https://colab.research.google.com/github/carohbrandt/My_ProjetoAula4/blob/main/ProjetoAula04_ProjetoVoltaAsAulas.ipynb\" target=\"_parent\"><img src=\"https://colab.research.google.com/assets/colab-badge.svg\" alt=\"Open In Colab\"/></a>"
      ]
    },
    {
      "cell_type": "code",
      "execution_count": null,
      "metadata": {
        "id": "-vdO2ad0-Ra3"
      },
      "outputs": [],
      "source": [
        "#Instalando o SDK do Google\n",
        "!pip install -q -U google-generativeai"
      ]
    },
    {
      "cell_type": "code",
      "execution_count": null,
      "metadata": {
        "id": "IthzwfnAfcsi"
      },
      "outputs": [],
      "source": [
        "#Configurações iniciais\n",
        "import google.generativeai as genai\n",
        "from google.colab import userdata\n",
        "api_key = userdata.get (\"SECRET_KEY\")\n",
        "genai.configure(api_key= api_key)"
      ]
    },
    {
      "cell_type": "code",
      "source": [
        "#Listando os modelos disponíveis\n",
        "for m in genai.list_models():\n",
        "  if 'generateContent' in m.supported_generation_methods:\n",
        "    print(m.name)"
      ],
      "metadata": {
        "id": "OnypOWI-W42Z",
        "colab": {
          "base_uri": "https://localhost:8080/",
          "height": 139
        },
        "outputId": "880c3f85-0f35-409e-b4d5-3294ba84fa6c"
      },
      "execution_count": null,
      "outputs": [
        {
          "output_type": "stream",
          "name": "stdout",
          "text": [
            "models/gemini-1.0-pro\n",
            "models/gemini-1.0-pro-001\n",
            "models/gemini-1.0-pro-latest\n",
            "models/gemini-1.0-pro-vision-latest\n",
            "models/gemini-1.5-pro-latest\n",
            "models/gemini-pro\n",
            "models/gemini-pro-vision\n"
          ]
        }
      ]
    },
    {
      "cell_type": "code",
      "source": [
        "generation_config = {\n",
        "  \"candidate_count\": 1,\n",
        "  \"temperature\": 0.5,\n",
        "}"
      ],
      "metadata": {
        "id": "tYcuvjXFkArD"
      },
      "execution_count": null,
      "outputs": []
    },
    {
      "cell_type": "code",
      "source": [
        "#definindo system instructions\n",
        "system_instruction = 'Aja como uma professora calma e descontraida  que detalha e ensina passo a passo até chegar na resposta da pergunta'"
      ],
      "metadata": {
        "id": "W60Ya8I9ILYc"
      },
      "execution_count": null,
      "outputs": []
    },
    {
      "cell_type": "code",
      "source": [
        "model = genai.GenerativeModel(model_name='gemini-1.5-pro-latest',\n",
        "                                  generation_config=generation_config,\n",
        "                                  safety_settings=safety_settings,\n",
        "                                  system_instructions=system_instructions,)"
      ],
      "metadata": {
        "id": "JxFnf_ii7xkz"
      },
      "execution_count": null,
      "outputs": []
    },
    {
      "cell_type": "code",
      "source": [
        "chat = model.start_chat(history=[])\n",
        "\n",
        "prompt = input('Esperando prompt: ')\n",
        "\n",
        "while prompt != \"fim\":\n",
        "  response = chat.send_message(prompt)\n",
        "  print(\"Resposta:\", response.text, '\\n\\n')\n",
        "  prompt = input('Esperando prompt: ')"
      ],
      "metadata": {
        "colab": {
          "base_uri": "https://localhost:8080/",
          "height": 924
        },
        "id": "VXSqR0kxGHBf",
        "outputId": "8f646075-478e-4cab-a6fc-f8f05226f195"
      },
      "execution_count": null,
      "outputs": [
        {
          "output_type": "stream",
          "name": "stdout",
          "text": [
            "Esperando prompt: Como se calcula a raiz quadrada?\n",
            "Resposta: ## Calculando a Raiz Quadrada: \n",
            "\n",
            "Existem diversos métodos para calcular a raiz quadrada de um número. A escolha do método ideal depende do contexto e da precisão desejada. Vamos explorar algumas opções:\n",
            "\n",
            "**1. Cálculo Manual:**\n",
            "\n",
            "* **Método da Estimativa:**\n",
            "    * Comece com um palpite inicial próximo à raiz quadrada. \n",
            "    * Divida o número pelo palpite. \n",
            "    * Calcule a média do palpite e o resultado da divisão.\n",
            "    * Repita o processo até atingir a precisão desejada.\n",
            "* **Método da Decomposição em Fatores Primos:**\n",
            "    * Decomponha o número em seus fatores primos.\n",
            "    * Agrupe os fatores primos em pares iguais.\n",
            "    * A raiz quadrada será o produto de um fator de cada par.\n",
            "\n",
            "**2. Calculadora:**\n",
            "\n",
            "* A maioria das calculadoras possui uma função dedicada à raiz quadrada (√). Basta inserir o número e pressionar a tecla correspondente.\n",
            "\n",
            "**3. Softwares Matemáticos:**\n",
            "\n",
            "* Programas como MATLAB, Mathematica e Wolfram Alpha oferecem funções avançadas para calcular raízes quadradas com alta precisão.\n",
            "\n",
            "**4. Linguagens de Programação:**\n",
            "\n",
            "* Diversas linguagens de programação, como Python, possuem bibliotecas matemáticas com funções para calcular raízes quadradas. \n",
            "\n",
            "**5. Tabelas de Raízes Quadradas:**\n",
            "\n",
            "* Existem tabelas pré-calculadas com raízes quadradas de números inteiros até um certo limite.\n",
            "\n",
            "**Exemplo:**\n",
            "\n",
            "Vamos calcular a raiz quadrada de 25:\n",
            "\n",
            "* **Método da Estimativa:**\n",
            "    * Palpite inicial: 5\n",
            "    * 25 / 5 = 5\n",
            "    * Média: (5 + 5) / 2 = 5\n",
            "    * Raiz quadrada de 25 = 5\n",
            "* **Método da Decomposição:**\n",
            "    * 25 = 5 * 5\n",
            "    * Raiz quadrada de 25 = 5\n",
            "\n",
            "Lembre-se de que a raiz quadrada de um número negativo não é um número real. \n",
            " \n",
            "\n",
            "\n"
          ]
        }
      ]
    }
  ]
}