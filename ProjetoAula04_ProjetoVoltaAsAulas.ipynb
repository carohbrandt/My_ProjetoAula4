{
  "nbformat": 4,
  "nbformat_minor": 0,
  "metadata": {
    "colab": {
      "provenance": [],
      "authorship_tag": "ABX9TyM/wNaJZcoUPbcMD5hmjS8w",
      "include_colab_link": true
    },
    "kernelspec": {
      "name": "python3",
      "display_name": "Python 3"
    },
    "language_info": {
      "name": "python"
    }
  },
  "cells": [
    {
      "cell_type": "markdown",
      "metadata": {
        "id": "view-in-github",
        "colab_type": "text"
      },
      "source": [
        "<a href=\"https://colab.research.google.com/github/carohbrandt/My_ProjetoAula4/blob/main/ProjetoAula04_ProjetoVoltaAsAulas.ipynb\" target=\"_parent\"><img src=\"https://colab.research.google.com/assets/colab-badge.svg\" alt=\"Open In Colab\"/></a>"
      ]
    },
    {
      "cell_type": "code",
      "execution_count": null,
      "metadata": {
        "id": "-vdO2ad0-Ra3"
      },
      "outputs": [],
      "source": [
        "#Instalando o SDK do Google\n",
        "!pip install -q -U google-generativeai"
      ]
    },
    {
      "cell_type": "code",
      "execution_count": null,
      "metadata": {
        "id": "IthzwfnAfcsi"
      },
      "outputs": [],
      "source": [
        "#Configurações iniciais\n",
        "import google.generativeai as genai\n",
        "from google.colab import userdata\n",
        "api_key = userdata.get (\"SECRET_KEY\")\n",
        "genai.configure(api_key= api_key)"
      ]
    },
    {
      "cell_type": "code",
      "source": [
        "#Listando os modelos disponíveis\n",
        "for m in genai.list_models():\n",
        "  if 'generateContent' in m.supported_generation_methods:\n",
        "    print(m.name)"
      ],
      "metadata": {
        "id": "OnypOWI-W42Z",
        "colab": {
          "base_uri": "https://localhost:8080/",
          "height": 139
        },
        "outputId": "880c3f85-0f35-409e-b4d5-3294ba84fa6c"
      },
      "execution_count": null,
      "outputs": [
        {
          "output_type": "stream",
          "name": "stdout",
          "text": [
            "models/gemini-1.0-pro\n",
            "models/gemini-1.0-pro-001\n",
            "models/gemini-1.0-pro-latest\n",
            "models/gemini-1.0-pro-vision-latest\n",
            "models/gemini-1.5-pro-latest\n",
            "models/gemini-pro\n",
            "models/gemini-pro-vision\n"
          ]
        }
      ]
    },
    {
      "cell_type": "code",
      "source": [
        "generation_config = {\n",
        "  \"candidate_count\": 1,\n",
        "  \"temperature\": 0.5,\n",
        "}"
      ],
      "metadata": {
        "id": "tYcuvjXFkArD"
      },
      "execution_count": null,
      "outputs": []
    },
    {
      "cell_type": "code",
      "source": [
        "model = genai.GenerativeModel(model_name='gemini-1.0-pro',\n",
        "                                  generation_config=generation_config,\n",
        "                                  safety_settings=safety_settings,)"
      ],
      "metadata": {
        "id": "JxFnf_ii7xkz"
      },
      "execution_count": null,
      "outputs": []
    },
    {
      "cell_type": "code",
      "source": [
        "chat = model.start_chat(history=[])\n",
        "\n",
        "prompt = input('Esperando prompt: ')\n",
        "\n",
        "while prompt != \"fim\":\n",
        "  response = chat.send_message(prompt)\n",
        "  print(\"Resposta:\", response.text, '\\n\\n')\n",
        "  prompt = input('Esperando prompt: ')"
      ],
      "metadata": {
        "colab": {
          "base_uri": "https://localhost:8080/",
          "height": 820
        },
        "id": "VXSqR0kxGHBf",
        "outputId": "4572f111-b6b9-4332-b0f6-ac2e0df18e5c"
      },
      "execution_count": null,
      "outputs": [
        {
          "output_type": "stream",
          "name": "stdout",
          "text": [
            "Esperando prompt: Como se calcula a raiz quadrada?\n",
            "Resposta: Existem várias maneiras de calcular a raiz quadrada de um número, a escolha do método muitas vezes depende da complexidade do número e das ferramentas disponíveis. Aqui estão alguns métodos:\n",
            "\n",
            "**1. Decomposição em fatores primos:**\n",
            "\n",
            "* **Fatore o número:** Encontre os fatores primos do número.\n",
            "* **Agrupe os fatores:** Agrupe os fatores primos em pares idênticos.\n",
            "* **Multiplique os fatores:** Para cada par, pegue um dos fatores e multiplique-os.\n",
            "* **Resultado:** O produto dos fatores é a raiz quadrada.\n",
            "\n",
            "**Exemplo:**  Calcular a raiz quadrada de 36:\n",
            "* 36 = 2 x 2 x 3 x 3\n",
            "* √36 = √(2 x 2 x 3 x 3) = 2 x 3 = 6\n",
            "\n",
            "**2. Estimativa e Teste:**\n",
            "\n",
            "* **Chute inicial:** Escolha um número que você acha que está próximo da raiz quadrada.\n",
            "* **Divida:** Divida o número original pelo seu chute.\n",
            "* **Média:** Encontre a média entre o seu chute e o resultado da divisão.\n",
            "* **Repita:** Use a média como um novo chute e repita o processo até obter a precisão desejada.\n",
            "\n",
            "**Exemplo:**  Calcular a raiz quadrada de 16:\n",
            "* Chute inicial: 4\n",
            "* 16 / 4 = 4\n",
            "* Média: (4 + 4) / 2 = 4\n",
            "* √16 = 4\n",
            "\n",
            "**3. Calculadora:**\n",
            "\n",
            "* A maneira mais fácil e precisa de calcular a raiz quadrada é usar uma calculadora. Basta inserir o número e pressionar o botão de raiz quadrada (√).\n",
            "\n",
            "**4. Algoritmo Babilônico:**\n",
            "\n",
            "* Esse método iterativo é usado para encontrar aproximações cada vez melhores da raiz quadrada. A fórmula é: x_(n+1) = (x_n + S/x_n) / 2, onde x_n é a estimativa atual e S é o número do qual você quer a raiz quadrada.\n",
            "\n",
            "**Outras Observações:**\n",
            "\n",
            "* Para números grandes ou complexos, o uso de uma calculadora ou software matemático é recomendado.\n",
            "* Existem outros métodos menos comuns, como o método de Newton-Raphson, que podem ser mais eficientes em certos casos.\n",
            "\n",
            "Espero que esta explicação ajude! \n",
            " \n",
            "\n",
            "\n"
          ]
        }
      ]
    }
  ]
}